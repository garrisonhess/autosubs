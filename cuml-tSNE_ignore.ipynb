{
 "cells": [
  {
   "cell_type": "markdown",
   "metadata": {},
   "source": [
    "# 785 cuML t-SNE"
   ]
  },
  {
   "cell_type": "code",
   "execution_count": 1,
   "metadata": {},
   "outputs": [],
   "source": [
    "from cuml import TSNE\n",
    "from collections import defaultdict\n",
    "import numpy as np\n",
    "import sklearn\n",
    "from sklearn.decomposition import TruncatedSVD\n",
    "from sklearn.preprocessing import OneHotEncoder\n",
    "from sklearn.feature_extraction.text import CountVectorizer\n",
    "data_dir = \"/home/gh/autosubs/data/\""
   ]
  },
  {
   "cell_type": "code",
   "execution_count": 2,
   "metadata": {},
   "outputs": [],
   "source": [
    "def run_tsne(data, ncomponents=2, perplexity=25.0, lr=200., niter=5000, verbose=1, n_iter_without_progress=250):\n",
    "    tsne = TSNE(n_components=ncomponents\n",
    "             , perplexity=perplexity\n",
    "             , early_exaggeration=12.0\n",
    "             , learning_rate=lr\n",
    "             , n_iter=niter\n",
    "             , n_iter_without_progress=n_iter_without_progress\n",
    "             , min_grad_norm=1e-07\n",
    "             , metric='euclidean'\n",
    "             , init='random'\n",
    "             , verbose=verbose\n",
    "             , random_state=0\n",
    "             , method='barnes_hut'\n",
    "             , angle=0.5)\n",
    "    \n",
    "    return tsne.fit_transform(data)"
   ]
  },
  {
   "cell_type": "code",
   "execution_count": 3,
   "metadata": {},
   "outputs": [],
   "source": [
    "# knnw_processed_comma = pd.read_csv(data_dir + \"processed_comma.csv\")\n",
    "# knnw_processed = pd.read_csv(data_dir + \"processed.csv\")\n",
    "# knnw_en_sub = pd.read_csv(data_dir + \"knnw_en_sub.csv\", sep=\";\")\n",
    "knnw_spectrogram = np.load(data_dir + \"knnw_en.log_spectrogram.npy\", allow_pickle=True)\n",
    "knnw_wav2vec = np.load(data_dir + \"wav2vec.npy\", allow_pickle=True)\n",
    "wsj_spectro = np.load(data_dir + \"wsj/train.npy\", allow_pickle=True)\n",
    "wsj_text = np.load(data_dir + \"wsj/train_transcripts.npy\", allow_pickle=True)"
   ]
  },
  {
   "cell_type": "code",
   "execution_count": 4,
   "metadata": {},
   "outputs": [
    {
     "name": "stdout",
     "output_type": "stream",
     "text": [
      "(129, 1370493)\n",
      "(1285,)\n",
      "(207, 512)\n"
     ]
    }
   ],
   "source": [
    "print(knnw_spectrogram.shape)\n",
    "print(knnw_wav2vec.shape)\n",
    "print(knnw_wav2vec[0].shape)"
   ]
  },
  {
   "cell_type": "markdown",
   "metadata": {},
   "source": [
    "# t-SNE on Corpuses"
   ]
  },
  {
   "cell_type": "markdown",
   "metadata": {},
   "source": [
    "### WSJ"
   ]
  },
  {
   "cell_type": "code",
   "execution_count": 5,
   "metadata": {
    "jupyter": {
     "source_hidden": true
    }
   },
   "outputs": [],
   "source": [
    "# wsj_sentences = []\n",
    "\n",
    "# for sentence in wsj_text:\n",
    "#     z = \" \".join([word.decode(\"utf-8\") for word in sentence])\n",
    "#     wsj_sentences.append(z)\n",
    "\n",
    "# wsj_sentences = np.array(wsj_sentences)\n",
    "# count_vec = CountVectorizer()\n",
    "# wsj_docmat = count_vec.fit_transform(wsj_sentences)\n",
    "# svd_components = 100\n",
    "# tsvd = TruncatedSVD(n_components=svd_components, n_iter=5, random_state=0, tol=0.0)\n",
    "# wsj_reduced = tsvd.fit_transform(wsj_docmat)\n",
    "# print(f\"ncomp {svd_components} explained variance {tsvd.explained_variance_ratio_.sum()}\")"
   ]
  },
  {
   "cell_type": "code",
   "execution_count": 6,
   "metadata": {
    "jupyter": {
     "source_hidden": true
    }
   },
   "outputs": [],
   "source": [
    "# wsj_tsne = run_tsne(wsj_reduced, perplexity=5.0, lr=100., niter=5000, verbose=5)\n",
    "# np.save(data_dir + \"wsj_transcript_tsne.npy\", wsj_tsne, allow_pickle=True)"
   ]
  },
  {
   "cell_type": "markdown",
   "metadata": {},
   "source": [
    "### KNNW"
   ]
  },
  {
   "cell_type": "code",
   "execution_count": 7,
   "metadata": {},
   "outputs": [],
   "source": [
    "# count_vec = CountVectorizer()\n",
    "# knnw_docmat = count_vec.fit_transform(knnw_processed_comma['Text'].values)\n",
    "# svd_components = 25\n",
    "# tsvd = TruncatedSVD(n_components=svd_components, algorithm='randomized', n_iter=5, random_state=0, tol=0.0)\n",
    "# tsvd.fit(knnw_docmat)\n",
    "# print(f\"ncomp {svd_components} explained variance {tsvd.explained_variance_ratio_.sum()}\")\n",
    "# knnw_reduced = tsvd.fit_transform(knnw_docmat)"
   ]
  },
  {
   "cell_type": "code",
   "execution_count": 8,
   "metadata": {},
   "outputs": [],
   "source": [
    "# knnw_tsne = run_tsne(knnw_reduced, perplexity=25.0, lr=200., niter=5000, verbose=5)\n",
    "# np.save(data_dir + \"knnw_transcript_tsne.npy\", knnw_tsne, allow_pickle=True)"
   ]
  },
  {
   "cell_type": "markdown",
   "metadata": {},
   "source": [
    "# t-SNE on Spectrograms"
   ]
  },
  {
   "cell_type": "markdown",
   "metadata": {},
   "source": [
    "## WSJ"
   ]
  },
  {
   "cell_type": "code",
   "execution_count": 9,
   "metadata": {},
   "outputs": [],
   "source": [
    "flat_wsj_spectro = []\n",
    "for utterance in wsj_spectro:\n",
    "    for frame in utterance:\n",
    "        flat_wsj_spectro.append(frame)\n",
    "\n",
    "flat_wsj_spectro = np.array(flat_wsj_spectro)"
   ]
  },
  {
   "cell_type": "code",
   "execution_count": 10,
   "metadata": {},
   "outputs": [
    {
     "data": {
      "text/plain": [
       "array([[1.5781574e-04, 4.6676921e-04, 6.0391880e-04, ..., 8.4340958e-05,\n",
       "        7.8386125e-05, 5.9076814e-05],\n",
       "       [3.9359243e-06, 8.8821416e-06, 6.0467682e-05, ..., 1.1556587e-05,\n",
       "        1.5931026e-05, 1.9300111e-05],\n",
       "       [4.3008840e-06, 4.1246236e-05, 1.8424325e-04, ..., 1.7501028e-05,\n",
       "        1.5845562e-05, 7.0566102e-06],\n",
       "       ...,\n",
       "       [1.3842387e-04, 2.4957865e-04, 0.0000000e+00, ..., 3.2638627e-06,\n",
       "        2.6198034e-06, 1.7233031e-06],\n",
       "       [2.9245995e-03, 1.4689696e-03, 0.0000000e+00, ..., 2.6954149e-06,\n",
       "        3.8057726e-06, 2.8651132e-06],\n",
       "       [1.4540179e-03, 2.6830547e-05, 0.0000000e+00, ..., 1.0375397e-06,\n",
       "        9.4315465e-07, 1.6158091e-06]], dtype=float32)"
      ]
     },
     "execution_count": 10,
     "metadata": {},
     "output_type": "execute_result"
    }
   ],
   "source": [
    "flat_wsj_spectro"
   ]
  },
  {
   "cell_type": "code",
   "execution_count": 11,
   "metadata": {},
   "outputs": [],
   "source": [
    "# svd_components = 5\n",
    "# tsvd = TruncatedSVD(n_components=svd_components, algorithm='randomized', n_iter=5, random_state=0, tol=0.0)\n",
    "# wsj_spectral_reduced = tsvd.fit_transform(flat_wsj_spectro)\n",
    "# print(f\"ncomp {svd_components} explained variance {tsvd.explained_variance_ratio_.sum()}\")"
   ]
  },
  {
   "cell_type": "code",
   "execution_count": 12,
   "metadata": {},
   "outputs": [],
   "source": [
    "np.random.seed(23)\n",
    "limit = 50000\n",
    "idxs = [i for i in range(flat_wsj_spectro.shape[0])]\n",
    "idxs = np.random.choice(idxs, size=limit)\n",
    "# wsj_spectral_reduced = wsj_spectral_reduced[:limit]\n",
    "wsj_spectral_reduced = flat_wsj_spectro[idxs]"
   ]
  },
  {
   "cell_type": "code",
   "execution_count": 13,
   "metadata": {},
   "outputs": [
    {
     "name": "stdout",
     "output_type": "stream",
     "text": [
      "[D] [23:36:33.571295] ../src/tsne/tsne_runner.cuh:88 Data size = (50000, 40) with dim = 2 perplexity = 50.000000\n",
      "[W] [23:36:33.571547] # of Nearest Neighbors should be at least 3 * perplexity. Your results might be a bit strange...\n",
      "[D] [23:36:33.571559] ../src/tsne/tsne_runner.cuh:129 Getting distances.\n",
      "[D] [23:36:34.272106] ../src/tsne/tsne_runner.cuh:155 Now normalizing distances so exp(D) doesn't explode.\n",
      "[D] [23:36:34.273349] ../src/tsne/tsne_runner.cuh:163 Searching for optimal perplexity via bisection search.\n",
      "[D] [23:36:34.324744] ../src/tsne/barnes_hut.cuh:75 N_nodes = 99999 blocks = 82\n",
      "[D] [23:36:34.325441] ../src/tsne/barnes_hut.cuh:169 Start gradient updates!\n",
      "[D] [23:36:35.503511] ../src/tsne/barnes_hut.cuh:279 SymmetrizeTime = 2 (0)\n",
      "DistancesTime = 701 (41)\n",
      "NormalizeTime = 1 (0)\n",
      "PerplexityTime = 49 (3)\n",
      "BoundingBoxKernel_time = 50 (3)\n",
      "ClearKernel1_time  = 310 (18)\n",
      "TreeBuildingKernel_time  = 51 (3)\n",
      "ClearKernel2_time  = 525 (30)\n",
      "SummarizationKernel_time  = 6 (0)\n",
      "SortKernel_time  = 1 (0)\n",
      "RepulsionTime  = 2 (0)\n",
      "Reduction_time  = 2 (0)\n",
      "attractive_time  = 4 (0)\n",
      "IntegrationKernel_time = 18 (1)\n",
      "TOTAL TIME = 1722\n"
     ]
    }
   ],
   "source": [
    "wsj_spectral_tsne = run_tsne(wsj_spectral_reduced, ncomponents=2, perplexity=50.0, lr=50., niter=1000, verbose=6)\n",
    "np.save(data_dir + \"wsj_spectral_tsne.npy\", wsj_spectral_tsne, allow_pickle=True)"
   ]
  },
  {
   "cell_type": "markdown",
   "metadata": {},
   "source": [
    "## KNNW"
   ]
  },
  {
   "cell_type": "code",
   "execution_count": 17,
   "metadata": {},
   "outputs": [],
   "source": [
    "knnw_spectrogram = knnw_spectrogram.T"
   ]
  },
  {
   "cell_type": "code",
   "execution_count": 20,
   "metadata": {},
   "outputs": [
    {
     "name": "stdout",
     "output_type": "stream",
     "text": [
      "ncomp 32 explained variance 0.9327141046524048\n"
     ]
    }
   ],
   "source": [
    "svd_components = 32\n",
    "tsvd = TruncatedSVD(n_components=svd_components, algorithm='randomized', n_iter=5, random_state=0, tol=0.0)\n",
    "knnw_spectro_svd = tsvd.fit_transform(knnw_spectrogram)\n",
    "print(f\"ncomp {svd_components} explained variance {tsvd.explained_variance_ratio_.sum()}\")"
   ]
  },
  {
   "cell_type": "code",
   "execution_count": 50,
   "metadata": {},
   "outputs": [],
   "source": [
    "np.random.seed(27)\n",
    "limit = 50000\n",
    "idxs = [i for i in range(knnw_spectrogram.shape[0])]\n",
    "idxs = np.random.choice(idxs, size=limit)\n",
    "knnw_spectral_reduced = knnw_spectro_svd[idxs]"
   ]
  },
  {
   "cell_type": "code",
   "execution_count": 54,
   "metadata": {},
   "outputs": [
    {
     "name": "stdout",
     "output_type": "stream",
     "text": [
      "[D] [23:43:28.839085] cuml/common/logger.cpp:3080 Learning rate is adaptive. In TSNE paper, it has been shown that as n->inf, Barnes Hut works well if n_neighbors->30, learning_rate->20000, early_exaggeration->24.\n",
      "[D] [23:43:28.839238] cuml/common/logger.cpp:3080 cuML uses an adpative method.n_neighbors decreases to 30 as n->inf. Likewise for the other params.\n",
      "[D] [23:43:28.839327] cuml/common/logger.cpp:3080 New n_neighbors = 42, learning_rate = 16666.666666666664, exaggeration = 24.0\n",
      "[D] [23:43:28.839360] ../src/tsne/tsne_runner.cuh:88 Data size = (50000, 32) with dim = 2 perplexity = 50.000000\n",
      "[W] [23:43:28.839373] # of Nearest Neighbors should be at least 3 * perplexity. Your results might be a bit strange...\n",
      "[D] [23:43:28.839386] ../src/tsne/tsne_runner.cuh:129 Getting distances.\n",
      "[D] [23:43:28.994620] ../src/tsne/tsne_runner.cuh:155 Now normalizing distances so exp(D) doesn't explode.\n",
      "[D] [23:43:28.996724] ../src/tsne/tsne_runner.cuh:163 Searching for optimal perplexity via bisection search.\n",
      "[D] [23:43:29.047694] ../src/tsne/barnes_hut.cuh:75 N_nodes = 99999 blocks = 82\n",
      "[D] [23:43:29.048397] ../src/tsne/barnes_hut.cuh:169 Start gradient updates!\n",
      "[D] [23:43:41.179602] ../src/tsne/barnes_hut.cuh:279 SymmetrizeTime = 15 (0)\n",
      "DistancesTime = 2455 (4)\n",
      "NormalizeTime = 10 (0)\n",
      "PerplexityTime = 271 (0)\n",
      "BoundingBoxKernel_time = 1814 (3)\n",
      "ClearKernel1_time  = 21081 (38)\n",
      "TreeBuildingKernel_time  = 666 (1)\n",
      "ClearKernel2_time  = 26716 (48)\n",
      "SummarizationKernel_time  = 325 (1)\n",
      "SortKernel_time  = 245 (0)\n",
      "RepulsionTime  = 249 (0)\n",
      "Reduction_time  = 229 (0)\n",
      "attractive_time  = 813 (1)\n",
      "IntegrationKernel_time = 424 (1)\n",
      "TOTAL TIME = 55313\n"
     ]
    }
   ],
   "source": [
    "knnw_spectral_tsne = run_tsne(knnw_spectral_reduced, ncomponents=2, perplexity=50.0, lr=50., niter=10000, verbose=6)#, n_iter_without_progress=250)\n",
    "np.save(data_dir + \"knnw_spectral_tsne.npy\", knnw_spectral_tsne, allow_pickle=True)"
   ]
  },
  {
   "cell_type": "markdown",
   "metadata": {},
   "source": [
    "## KNNW - WAV2VEC"
   ]
  },
  {
   "cell_type": "code",
   "execution_count": 13,
   "metadata": {},
   "outputs": [],
   "source": [
    "flat_knnw_wav2vec = []\n",
    "for utterance in knnw_wav2vec:\n",
    "    for frame in utterance:\n",
    "        flat_knnw_wav2vec.append(frame)\n",
    "\n",
    "flat_knnw_wav2vec = np.array(flat_knnw_wav2vec)"
   ]
  },
  {
   "cell_type": "code",
   "execution_count": null,
   "metadata": {},
   "outputs": [],
   "source": []
  },
  {
   "cell_type": "code",
   "execution_count": null,
   "metadata": {},
   "outputs": [],
   "source": [
    "svd_components = 64\n",
    "tsvd = TruncatedSVD(n_components=svd_components, algorithm='randomized', n_iter=5, random_state=0, tol=0.0)\n",
    "knnw_wav2vec_reduced = tsvd.fit_transform(flat_knnw_wav2vec)\n",
    "print(f\"ncomp {svd_components} explained variance {tsvd.explained_variance_ratio_.sum()}\")"
   ]
  },
  {
   "cell_type": "code",
   "execution_count": null,
   "metadata": {},
   "outputs": [],
   "source": [
    "knnw_spectrogram = knnw_spectrogram.T\n",
    "np.random.seed(23)\n",
    "limit = 10000\n",
    "idxs = [i for i in range(knnw_spectrogram.shape[0])]\n",
    "idxs = np.random.choice(idxs, size=limit)\n",
    "\n",
    "knnw_wav2vec_reduced = knnw_wav2vec_reduced[:100]"
   ]
  },
  {
   "cell_type": "code",
   "execution_count": null,
   "metadata": {},
   "outputs": [],
   "source": [
    "knnw_wav2vec_tsne = run_tsne(knnw_wav2vec_reduced, ncomponents=2, perplexity=10.0, lr=100., niter=1000, verbose=1, n_iter_without_progress=250)\n",
    "np.save(data_dir + \"knnw_wav2vec_tsne.npy\", knnw_wav2vec_tsne, allow_pickle=True)"
   ]
  },
  {
   "cell_type": "code",
   "execution_count": null,
   "metadata": {},
   "outputs": [],
   "source": []
  }
 ],
 "metadata": {
  "kernelspec": {
   "display_name": "rapids",
   "language": "python",
   "name": "rapids"
  },
  "language_info": {
   "codemirror_mode": {
    "name": "ipython",
    "version": 3
   },
   "file_extension": ".py",
   "mimetype": "text/x-python",
   "name": "python",
   "nbconvert_exporter": "python",
   "pygments_lexer": "ipython3",
   "version": "3.7.10"
  }
 },
 "nbformat": 4,
 "nbformat_minor": 4
}
